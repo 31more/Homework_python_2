{
 "cells": [
  {
   "cell_type": "code",
   "execution_count": 1,
   "metadata": {
    "colab": {},
    "colab_type": "code",
    "id": "RfF7y7y-TK3p"
   },
   "outputs": [],
   "source": [
    "import numpy as np\n",
    "import pandas as pd"
   ]
  },
  {
   "cell_type": "markdown",
   "metadata": {
    "colab_type": "text",
    "id": "Rh41s0V3N-hI"
   },
   "source": [
    "Pandas - это библиотека Python, предоставляющая широкие возможности для анализа данных. С ее помощью очень удобно загружать, обрабатывать и анализировать табличные данные с помощью SQL-подобных запросов. В связке с библиотеками Matplotlib и Seaborn появляется возможность удобного визуального анализа табличных данных."
   ]
  },
  {
   "cell_type": "markdown",
   "metadata": {
    "colab_type": "text",
    "id": "9gWQV_QrOGom"
   },
   "source": [
    "Основными структурами данных в Pandas являются классы Series и DataFrame. Первый из них представляет собой одномерный индексированный массив данных некоторого фиксированного типа. Второй - это двухмерная структура данных, представляющая собой таблицу, каждый столбец которой содержит данные одного типа. Можно представлять её как словарь объектов типа Series. Структура DataFrame отлично подходит для представления реальных данных: строки соответствуют признаковым описаниям отдельных объектов, а столбцы соответствуют признакам."
   ]
  },
  {
   "cell_type": "code",
   "execution_count": 2,
   "metadata": {
    "colab": {
     "base_uri": "https://localhost:8080/",
     "height": 312
    },
    "colab_type": "code",
    "executionInfo": {
     "elapsed": 2615,
     "status": "ok",
     "timestamp": 1584026970108,
     "user": {
      "displayName": "Anastasia Nikolskaya",
      "photoUrl": "https://lh3.googleusercontent.com/a-/AOh14GjUwswTDfclrozNFtwEJcPm-A2PmDwCJHZN8tR8Hg=s64",
      "userId": "05116738580945676026"
     },
     "user_tz": -180
    },
    "id": "er85MY3rOPej",
    "outputId": "1ce57a04-c313-49d9-b435-280deddb8ecc"
   },
   "outputs": [
    {
     "name": "stdout",
     "output_type": "stream",
     "text": [
      "Andrew     400\n",
      "Bob        300\n",
      "Charles    200\n",
      "Ann        250\n",
      "dtype: int64\n",
      "Andrew     400.0\n",
      "Bob        300.0\n",
      "Charles    200.0\n",
      "Ann        250.0\n",
      "Carl         NaN\n",
      "dtype: float64\n",
      "Andrew     400.0\n",
      "Bob        300.0\n",
      "Charles    200.0\n",
      "Ann        250.0\n",
      "Carl       200.0\n",
      "dtype: float64\n"
     ]
    }
   ],
   "source": [
    "salaries = pd.Series([400, 300, 200, 250], \n",
    "              index = ['Andrew', 'Bob', \n",
    "                       'Charles', 'Ann']) \n",
    "print(salaries)\n",
    "\n",
    "salaries['Carl'] = np.nan\n",
    "print(salaries)\n",
    "\n",
    "salaries.fillna(salaries.min(), inplace=True)\n",
    "print(salaries)"
   ]
  },
  {
   "cell_type": "markdown",
   "metadata": {
    "colab_type": "text",
    "id": "vM4XWtKWOpDA"
   },
   "source": [
    "\n",
    "\n",
    "Объекты Series похожи на ndarray и могут быть переданы в качестве аргументов большинству функций из Numpy.\n"
   ]
  },
  {
   "cell_type": "code",
   "execution_count": null,
   "metadata": {
    "colab": {},
    "colab_type": "code",
    "id": "8y9PsVqpOrYh"
   },
   "outputs": [],
   "source": []
  },
  {
   "cell_type": "markdown",
   "metadata": {
    "colab_type": "text",
    "id": "wyBz23FGTK7T"
   },
   "source": [
    "## **Считываем данные из файла**"
   ]
  },
  {
   "cell_type": "code",
   "execution_count": null,
   "metadata": {
    "colab": {},
    "colab_type": "code",
    "id": "I5baBrwJTwEs"
   },
   "outputs": [],
   "source": []
  },
  {
   "cell_type": "code",
   "execution_count": 7,
   "metadata": {
    "colab": {},
    "colab_type": "code",
    "id": "LbP3S5YKTK8F"
   },
   "outputs": [],
   "source": [
    "data = pd.read_csv('wine.csv')"
   ]
  },
  {
   "cell_type": "code",
   "execution_count": 8,
   "metadata": {
    "colab": {
     "base_uri": "https://localhost:8080/",
     "height": 34
    },
    "colab_type": "code",
    "executionInfo": {
     "elapsed": 1746,
     "status": "ok",
     "timestamp": 1584027074395,
     "user": {
      "displayName": "Anastasia Nikolskaya",
      "photoUrl": "https://lh3.googleusercontent.com/a-/AOh14GjUwswTDfclrozNFtwEJcPm-A2PmDwCJHZN8tR8Hg=s64",
      "userId": "05116738580945676026"
     },
     "user_tz": -180
    },
    "id": "pPjueLrITK9_",
    "outputId": "d2906da1-d40f-4e8b-af7c-9ad30c13454c"
   },
   "outputs": [
    {
     "data": {
      "text/plain": [
       "pandas.core.frame.DataFrame"
      ]
     },
     "execution_count": 8,
     "metadata": {},
     "output_type": "execute_result"
    }
   ],
   "source": [
    "type(data)"
   ]
  },
  {
   "cell_type": "markdown",
   "metadata": {
    "colab_type": "text",
    "id": "17rK_T7gTK_M"
   },
   "source": [
    "**Смотрим на первые 5 строк**"
   ]
  },
  {
   "cell_type": "code",
   "execution_count": 9,
   "metadata": {
    "pycharm": {
     "name": "#%%\n"
    }
   },
   "outputs": [
    {
     "data": {
      "text/html": [
       "<div>\n",
       "<style scoped>\n",
       "    .dataframe tbody tr th:only-of-type {\n",
       "        vertical-align: middle;\n",
       "    }\n",
       "\n",
       "    .dataframe tbody tr th {\n",
       "        vertical-align: top;\n",
       "    }\n",
       "\n",
       "    .dataframe thead th {\n",
       "        text-align: right;\n",
       "    }\n",
       "</style>\n",
       "<table border=\"1\" class=\"dataframe\">\n",
       "  <thead>\n",
       "    <tr style=\"text-align: right;\">\n",
       "      <th></th>\n",
       "      <th>Wine</th>\n",
       "      <th>Alcohol</th>\n",
       "      <th>Malic.acid</th>\n",
       "      <th>Ash</th>\n",
       "      <th>Acl</th>\n",
       "      <th>Mg</th>\n",
       "      <th>Phenols</th>\n",
       "      <th>Flavanoids</th>\n",
       "      <th>Nonflavanoid.phenols</th>\n",
       "      <th>Proanth</th>\n",
       "      <th>Color.int</th>\n",
       "      <th>Hue</th>\n",
       "      <th>OD</th>\n",
       "      <th>Proline</th>\n",
       "    </tr>\n",
       "  </thead>\n",
       "  <tbody>\n",
       "    <tr>\n",
       "      <th>0</th>\n",
       "      <td>1</td>\n",
       "      <td>14.23</td>\n",
       "      <td>1.71</td>\n",
       "      <td>2.43</td>\n",
       "      <td>15.6</td>\n",
       "      <td>127</td>\n",
       "      <td>2.80</td>\n",
       "      <td>3.06</td>\n",
       "      <td>0.28</td>\n",
       "      <td>2.29</td>\n",
       "      <td>5.64</td>\n",
       "      <td>1.04</td>\n",
       "      <td>3.92</td>\n",
       "      <td>1065</td>\n",
       "    </tr>\n",
       "    <tr>\n",
       "      <th>1</th>\n",
       "      <td>1</td>\n",
       "      <td>13.20</td>\n",
       "      <td>1.78</td>\n",
       "      <td>2.14</td>\n",
       "      <td>11.2</td>\n",
       "      <td>100</td>\n",
       "      <td>2.65</td>\n",
       "      <td>2.76</td>\n",
       "      <td>0.26</td>\n",
       "      <td>1.28</td>\n",
       "      <td>4.38</td>\n",
       "      <td>1.05</td>\n",
       "      <td>3.40</td>\n",
       "      <td>1050</td>\n",
       "    </tr>\n",
       "    <tr>\n",
       "      <th>2</th>\n",
       "      <td>1</td>\n",
       "      <td>13.16</td>\n",
       "      <td>2.36</td>\n",
       "      <td>2.67</td>\n",
       "      <td>18.6</td>\n",
       "      <td>101</td>\n",
       "      <td>2.80</td>\n",
       "      <td>3.24</td>\n",
       "      <td>0.30</td>\n",
       "      <td>2.81</td>\n",
       "      <td>5.68</td>\n",
       "      <td>1.03</td>\n",
       "      <td>3.17</td>\n",
       "      <td>1185</td>\n",
       "    </tr>\n",
       "    <tr>\n",
       "      <th>3</th>\n",
       "      <td>1</td>\n",
       "      <td>14.37</td>\n",
       "      <td>1.95</td>\n",
       "      <td>2.50</td>\n",
       "      <td>16.8</td>\n",
       "      <td>113</td>\n",
       "      <td>3.85</td>\n",
       "      <td>3.49</td>\n",
       "      <td>0.24</td>\n",
       "      <td>2.18</td>\n",
       "      <td>7.80</td>\n",
       "      <td>0.86</td>\n",
       "      <td>3.45</td>\n",
       "      <td>1480</td>\n",
       "    </tr>\n",
       "    <tr>\n",
       "      <th>4</th>\n",
       "      <td>1</td>\n",
       "      <td>13.24</td>\n",
       "      <td>2.59</td>\n",
       "      <td>2.87</td>\n",
       "      <td>21.0</td>\n",
       "      <td>118</td>\n",
       "      <td>2.80</td>\n",
       "      <td>2.69</td>\n",
       "      <td>0.39</td>\n",
       "      <td>1.82</td>\n",
       "      <td>4.32</td>\n",
       "      <td>1.04</td>\n",
       "      <td>2.93</td>\n",
       "      <td>735</td>\n",
       "    </tr>\n",
       "  </tbody>\n",
       "</table>\n",
       "</div>"
      ],
      "text/plain": [
       "   Wine  Alcohol  Malic.acid   Ash   Acl   Mg  Phenols  Flavanoids  \\\n",
       "0     1    14.23        1.71  2.43  15.6  127     2.80        3.06   \n",
       "1     1    13.20        1.78  2.14  11.2  100     2.65        2.76   \n",
       "2     1    13.16        2.36  2.67  18.6  101     2.80        3.24   \n",
       "3     1    14.37        1.95  2.50  16.8  113     3.85        3.49   \n",
       "4     1    13.24        2.59  2.87  21.0  118     2.80        2.69   \n",
       "\n",
       "   Nonflavanoid.phenols  Proanth  Color.int   Hue    OD  Proline  \n",
       "0                  0.28     2.29       5.64  1.04  3.92     1065  \n",
       "1                  0.26     1.28       4.38  1.05  3.40     1050  \n",
       "2                  0.30     2.81       5.68  1.03  3.17     1185  \n",
       "3                  0.24     2.18       7.80  0.86  3.45     1480  \n",
       "4                  0.39     1.82       4.32  1.04  2.93      735  "
      ]
     },
     "execution_count": 9,
     "metadata": {},
     "output_type": "execute_result"
    }
   ],
   "source": [
    "data.head(5)"
   ]
  },
  {
   "cell_type": "code",
   "execution_count": 10,
   "metadata": {
    "colab": {
     "base_uri": "https://localhost:8080/",
     "height": 100
    },
    "colab_type": "code",
    "executionInfo": {
     "elapsed": 3664,
     "status": "ok",
     "timestamp": 1584027457195,
     "user": {
      "displayName": "Anastasia Nikolskaya",
      "photoUrl": "https://lh3.googleusercontent.com/a-/AOh14GjUwswTDfclrozNFtwEJcPm-A2PmDwCJHZN8tR8Hg=s64",
      "userId": "05116738580945676026"
     },
     "user_tz": -180
    },
    "id": "HlRYheLMTK_p",
    "outputId": "cd86494d-23d1-4d17-fe55-63e327f28d13"
   },
   "outputs": [
    {
     "data": {
      "text/html": [
       "<div>\n",
       "<style scoped>\n",
       "    .dataframe tbody tr th:only-of-type {\n",
       "        vertical-align: middle;\n",
       "    }\n",
       "\n",
       "    .dataframe tbody tr th {\n",
       "        vertical-align: top;\n",
       "    }\n",
       "\n",
       "    .dataframe thead th {\n",
       "        text-align: right;\n",
       "    }\n",
       "</style>\n",
       "<table border=\"1\" class=\"dataframe\">\n",
       "  <thead>\n",
       "    <tr style=\"text-align: right;\">\n",
       "      <th></th>\n",
       "      <th>Wine</th>\n",
       "      <th>Alcohol</th>\n",
       "      <th>Malic.acid</th>\n",
       "      <th>Ash</th>\n",
       "      <th>Acl</th>\n",
       "      <th>Mg</th>\n",
       "      <th>Phenols</th>\n",
       "      <th>Flavanoids</th>\n",
       "      <th>Nonflavanoid.phenols</th>\n",
       "      <th>Proanth</th>\n",
       "      <th>Color.int</th>\n",
       "      <th>Hue</th>\n",
       "      <th>OD</th>\n",
       "      <th>Proline</th>\n",
       "    </tr>\n",
       "  </thead>\n",
       "  <tbody>\n",
       "    <tr>\n",
       "      <th>138</th>\n",
       "      <td>3</td>\n",
       "      <td>13.49</td>\n",
       "      <td>3.59</td>\n",
       "      <td>2.19</td>\n",
       "      <td>19.5</td>\n",
       "      <td>88</td>\n",
       "      <td>1.62</td>\n",
       "      <td>0.48</td>\n",
       "      <td>0.58</td>\n",
       "      <td>0.88</td>\n",
       "      <td>5.7</td>\n",
       "      <td>0.81</td>\n",
       "      <td>1.82</td>\n",
       "      <td>580</td>\n",
       "    </tr>\n",
       "  </tbody>\n",
       "</table>\n",
       "</div>"
      ],
      "text/plain": [
       "     Wine  Alcohol  Malic.acid   Ash   Acl  Mg  Phenols  Flavanoids  \\\n",
       "138     3    13.49        3.59  2.19  19.5  88     1.62        0.48   \n",
       "\n",
       "     Nonflavanoid.phenols  Proanth  Color.int   Hue    OD  Proline  \n",
       "138                  0.58     0.88        5.7  0.81  1.82      580  "
      ]
     },
     "execution_count": 10,
     "metadata": {},
     "output_type": "execute_result"
    }
   ],
   "source": [
    "import random\n",
    "data.sample()"
   ]
  },
  {
   "cell_type": "code",
   "execution_count": 11,
   "metadata": {
    "colab": {
     "base_uri": "https://localhost:8080/",
     "height": 34
    },
    "colab_type": "code",
    "executionInfo": {
     "elapsed": 1756,
     "status": "ok",
     "timestamp": 1584027488435,
     "user": {
      "displayName": "Anastasia Nikolskaya",
      "photoUrl": "https://lh3.googleusercontent.com/a-/AOh14GjUwswTDfclrozNFtwEJcPm-A2PmDwCJHZN8tR8Hg=s64",
      "userId": "05116738580945676026"
     },
     "user_tz": -180
    },
    "id": "kUWqW5-GTLA3",
    "outputId": "dba5affd-746c-4e4c-f67a-957e62ab4e39"
   },
   "outputs": [
    {
     "data": {
      "text/plain": [
       "(178, 14)"
      ]
     },
     "execution_count": 11,
     "metadata": {},
     "output_type": "execute_result"
    }
   ],
   "source": [
    "data.shape"
   ]
  },
  {
   "cell_type": "code",
   "execution_count": 12,
   "metadata": {
    "colab": {
     "base_uri": "https://localhost:8080/",
     "height": 86
    },
    "colab_type": "code",
    "executionInfo": {
     "elapsed": 1018,
     "status": "ok",
     "timestamp": 1584027492065,
     "user": {
      "displayName": "Anastasia Nikolskaya",
      "photoUrl": "https://lh3.googleusercontent.com/a-/AOh14GjUwswTDfclrozNFtwEJcPm-A2PmDwCJHZN8tR8Hg=s64",
      "userId": "05116738580945676026"
     },
     "user_tz": -180
    },
    "id": "pjBUlQp0Vi9K",
    "outputId": "8a6b1ee6-22b6-407f-bdcd-fae146cfe887"
   },
   "outputs": [
    {
     "data": {
      "text/plain": [
       "Index(['Wine', 'Alcohol', 'Malic.acid', 'Ash', 'Acl', 'Mg', 'Phenols',\n",
       "       'Flavanoids', 'Nonflavanoid.phenols', 'Proanth', 'Color.int', 'Hue',\n",
       "       'OD', 'Proline'],\n",
       "      dtype='object')"
      ]
     },
     "execution_count": 12,
     "metadata": {},
     "output_type": "execute_result"
    }
   ],
   "source": [
    "data.columns"
   ]
  },
  {
   "cell_type": "markdown",
   "metadata": {
    "colab_type": "text",
    "id": "uwpMEYr3TLBx"
   },
   "source": [
    "## **Краткая статистика – info и describe**"
   ]
  },
  {
   "cell_type": "code",
   "execution_count": 13,
   "metadata": {
    "colab": {
     "base_uri": "https://localhost:8080/",
     "height": 347
    },
    "colab_type": "code",
    "executionInfo": {
     "elapsed": 1166,
     "status": "ok",
     "timestamp": 1584027524445,
     "user": {
      "displayName": "Anastasia Nikolskaya",
      "photoUrl": "https://lh3.googleusercontent.com/a-/AOh14GjUwswTDfclrozNFtwEJcPm-A2PmDwCJHZN8tR8Hg=s64",
      "userId": "05116738580945676026"
     },
     "user_tz": -180
    },
    "id": "1fnMdanWTLCC",
    "outputId": "75f9d89a-ea88-41bf-8be0-892e344b1739"
   },
   "outputs": [
    {
     "name": "stdout",
     "output_type": "stream",
     "text": [
      "<class 'pandas.core.frame.DataFrame'>\n",
      "RangeIndex: 178 entries, 0 to 177\n",
      "Data columns (total 14 columns):\n",
      " #   Column                Non-Null Count  Dtype  \n",
      "---  ------                --------------  -----  \n",
      " 0   Wine                  178 non-null    int64  \n",
      " 1   Alcohol               178 non-null    float64\n",
      " 2   Malic.acid            178 non-null    float64\n",
      " 3   Ash                   178 non-null    float64\n",
      " 4   Acl                   178 non-null    float64\n",
      " 5   Mg                    178 non-null    int64  \n",
      " 6   Phenols               178 non-null    float64\n",
      " 7   Flavanoids            178 non-null    float64\n",
      " 8   Nonflavanoid.phenols  178 non-null    float64\n",
      " 9   Proanth               178 non-null    float64\n",
      " 10  Color.int             178 non-null    float64\n",
      " 11  Hue                   178 non-null    float64\n",
      " 12  OD                    178 non-null    float64\n",
      " 13  Proline               178 non-null    int64  \n",
      "dtypes: float64(11), int64(3)\n",
      "memory usage: 19.6 KB\n"
     ]
    }
   ],
   "source": [
    "data.info()"
   ]
  },
  {
   "cell_type": "code",
   "execution_count": 14,
   "metadata": {
    "colab": {
     "base_uri": "https://localhost:8080/",
     "height": 320
    },
    "colab_type": "code",
    "executionInfo": {
     "elapsed": 1789,
     "status": "ok",
     "timestamp": 1584027548188,
     "user": {
      "displayName": "Anastasia Nikolskaya",
      "photoUrl": "https://lh3.googleusercontent.com/a-/AOh14GjUwswTDfclrozNFtwEJcPm-A2PmDwCJHZN8tR8Hg=s64",
      "userId": "05116738580945676026"
     },
     "user_tz": -180
    },
    "id": "tgVWlsxvTLDK",
    "outputId": "70d14bc7-c0e6-4b4f-d3a0-3bc99e6c51ce"
   },
   "outputs": [
    {
     "data": {
      "text/html": [
       "<div>\n",
       "<style scoped>\n",
       "    .dataframe tbody tr th:only-of-type {\n",
       "        vertical-align: middle;\n",
       "    }\n",
       "\n",
       "    .dataframe tbody tr th {\n",
       "        vertical-align: top;\n",
       "    }\n",
       "\n",
       "    .dataframe thead th {\n",
       "        text-align: right;\n",
       "    }\n",
       "</style>\n",
       "<table border=\"1\" class=\"dataframe\">\n",
       "  <thead>\n",
       "    <tr style=\"text-align: right;\">\n",
       "      <th></th>\n",
       "      <th>Wine</th>\n",
       "      <th>Alcohol</th>\n",
       "      <th>Malic.acid</th>\n",
       "      <th>Ash</th>\n",
       "      <th>Acl</th>\n",
       "      <th>Mg</th>\n",
       "      <th>Phenols</th>\n",
       "      <th>Flavanoids</th>\n",
       "      <th>Nonflavanoid.phenols</th>\n",
       "      <th>Proanth</th>\n",
       "      <th>Color.int</th>\n",
       "      <th>Hue</th>\n",
       "      <th>OD</th>\n",
       "      <th>Proline</th>\n",
       "    </tr>\n",
       "  </thead>\n",
       "  <tbody>\n",
       "    <tr>\n",
       "      <th>count</th>\n",
       "      <td>178.000000</td>\n",
       "      <td>178.000000</td>\n",
       "      <td>178.000000</td>\n",
       "      <td>178.000000</td>\n",
       "      <td>178.000000</td>\n",
       "      <td>178.000000</td>\n",
       "      <td>178.000000</td>\n",
       "      <td>178.000000</td>\n",
       "      <td>178.000000</td>\n",
       "      <td>178.000000</td>\n",
       "      <td>178.000000</td>\n",
       "      <td>178.000000</td>\n",
       "      <td>178.000000</td>\n",
       "      <td>178.000000</td>\n",
       "    </tr>\n",
       "    <tr>\n",
       "      <th>mean</th>\n",
       "      <td>1.938202</td>\n",
       "      <td>13.000618</td>\n",
       "      <td>2.336348</td>\n",
       "      <td>2.366517</td>\n",
       "      <td>19.494944</td>\n",
       "      <td>99.741573</td>\n",
       "      <td>2.295112</td>\n",
       "      <td>2.029270</td>\n",
       "      <td>0.361854</td>\n",
       "      <td>1.590899</td>\n",
       "      <td>5.058090</td>\n",
       "      <td>0.957449</td>\n",
       "      <td>2.611685</td>\n",
       "      <td>746.893258</td>\n",
       "    </tr>\n",
       "    <tr>\n",
       "      <th>std</th>\n",
       "      <td>0.775035</td>\n",
       "      <td>0.811827</td>\n",
       "      <td>1.117146</td>\n",
       "      <td>0.274344</td>\n",
       "      <td>3.339564</td>\n",
       "      <td>14.282484</td>\n",
       "      <td>0.625851</td>\n",
       "      <td>0.998859</td>\n",
       "      <td>0.124453</td>\n",
       "      <td>0.572359</td>\n",
       "      <td>2.318286</td>\n",
       "      <td>0.228572</td>\n",
       "      <td>0.709990</td>\n",
       "      <td>314.907474</td>\n",
       "    </tr>\n",
       "    <tr>\n",
       "      <th>min</th>\n",
       "      <td>1.000000</td>\n",
       "      <td>11.030000</td>\n",
       "      <td>0.740000</td>\n",
       "      <td>1.360000</td>\n",
       "      <td>10.600000</td>\n",
       "      <td>70.000000</td>\n",
       "      <td>0.980000</td>\n",
       "      <td>0.340000</td>\n",
       "      <td>0.130000</td>\n",
       "      <td>0.410000</td>\n",
       "      <td>1.280000</td>\n",
       "      <td>0.480000</td>\n",
       "      <td>1.270000</td>\n",
       "      <td>278.000000</td>\n",
       "    </tr>\n",
       "    <tr>\n",
       "      <th>25%</th>\n",
       "      <td>1.000000</td>\n",
       "      <td>12.362500</td>\n",
       "      <td>1.602500</td>\n",
       "      <td>2.210000</td>\n",
       "      <td>17.200000</td>\n",
       "      <td>88.000000</td>\n",
       "      <td>1.742500</td>\n",
       "      <td>1.205000</td>\n",
       "      <td>0.270000</td>\n",
       "      <td>1.250000</td>\n",
       "      <td>3.220000</td>\n",
       "      <td>0.782500</td>\n",
       "      <td>1.937500</td>\n",
       "      <td>500.500000</td>\n",
       "    </tr>\n",
       "    <tr>\n",
       "      <th>50%</th>\n",
       "      <td>2.000000</td>\n",
       "      <td>13.050000</td>\n",
       "      <td>1.865000</td>\n",
       "      <td>2.360000</td>\n",
       "      <td>19.500000</td>\n",
       "      <td>98.000000</td>\n",
       "      <td>2.355000</td>\n",
       "      <td>2.135000</td>\n",
       "      <td>0.340000</td>\n",
       "      <td>1.555000</td>\n",
       "      <td>4.690000</td>\n",
       "      <td>0.965000</td>\n",
       "      <td>2.780000</td>\n",
       "      <td>673.500000</td>\n",
       "    </tr>\n",
       "    <tr>\n",
       "      <th>75%</th>\n",
       "      <td>3.000000</td>\n",
       "      <td>13.677500</td>\n",
       "      <td>3.082500</td>\n",
       "      <td>2.557500</td>\n",
       "      <td>21.500000</td>\n",
       "      <td>107.000000</td>\n",
       "      <td>2.800000</td>\n",
       "      <td>2.875000</td>\n",
       "      <td>0.437500</td>\n",
       "      <td>1.950000</td>\n",
       "      <td>6.200000</td>\n",
       "      <td>1.120000</td>\n",
       "      <td>3.170000</td>\n",
       "      <td>985.000000</td>\n",
       "    </tr>\n",
       "    <tr>\n",
       "      <th>max</th>\n",
       "      <td>3.000000</td>\n",
       "      <td>14.830000</td>\n",
       "      <td>5.800000</td>\n",
       "      <td>3.230000</td>\n",
       "      <td>30.000000</td>\n",
       "      <td>162.000000</td>\n",
       "      <td>3.880000</td>\n",
       "      <td>5.080000</td>\n",
       "      <td>0.660000</td>\n",
       "      <td>3.580000</td>\n",
       "      <td>13.000000</td>\n",
       "      <td>1.710000</td>\n",
       "      <td>4.000000</td>\n",
       "      <td>1680.000000</td>\n",
       "    </tr>\n",
       "  </tbody>\n",
       "</table>\n",
       "</div>"
      ],
      "text/plain": [
       "             Wine     Alcohol  Malic.acid         Ash         Acl          Mg  \\\n",
       "count  178.000000  178.000000  178.000000  178.000000  178.000000  178.000000   \n",
       "mean     1.938202   13.000618    2.336348    2.366517   19.494944   99.741573   \n",
       "std      0.775035    0.811827    1.117146    0.274344    3.339564   14.282484   \n",
       "min      1.000000   11.030000    0.740000    1.360000   10.600000   70.000000   \n",
       "25%      1.000000   12.362500    1.602500    2.210000   17.200000   88.000000   \n",
       "50%      2.000000   13.050000    1.865000    2.360000   19.500000   98.000000   \n",
       "75%      3.000000   13.677500    3.082500    2.557500   21.500000  107.000000   \n",
       "max      3.000000   14.830000    5.800000    3.230000   30.000000  162.000000   \n",
       "\n",
       "          Phenols  Flavanoids  Nonflavanoid.phenols     Proanth   Color.int  \\\n",
       "count  178.000000  178.000000            178.000000  178.000000  178.000000   \n",
       "mean     2.295112    2.029270              0.361854    1.590899    5.058090   \n",
       "std      0.625851    0.998859              0.124453    0.572359    2.318286   \n",
       "min      0.980000    0.340000              0.130000    0.410000    1.280000   \n",
       "25%      1.742500    1.205000              0.270000    1.250000    3.220000   \n",
       "50%      2.355000    2.135000              0.340000    1.555000    4.690000   \n",
       "75%      2.800000    2.875000              0.437500    1.950000    6.200000   \n",
       "max      3.880000    5.080000              0.660000    3.580000   13.000000   \n",
       "\n",
       "              Hue          OD      Proline  \n",
       "count  178.000000  178.000000   178.000000  \n",
       "mean     0.957449    2.611685   746.893258  \n",
       "std      0.228572    0.709990   314.907474  \n",
       "min      0.480000    1.270000   278.000000  \n",
       "25%      0.782500    1.937500   500.500000  \n",
       "50%      0.965000    2.780000   673.500000  \n",
       "75%      1.120000    3.170000   985.000000  \n",
       "max      1.710000    4.000000  1680.000000  "
      ]
     },
     "execution_count": 14,
     "metadata": {},
     "output_type": "execute_result"
    }
   ],
   "source": [
    "data.describe()"
   ]
  },
  {
   "cell_type": "markdown",
   "metadata": {
    "colab_type": "text",
    "id": "sgI_V2w_TLEN"
   },
   "source": [
    "##**Индексация**"
   ]
  },
  {
   "cell_type": "code",
   "execution_count": 15,
   "metadata": {
    "colab": {
     "base_uri": "https://localhost:8080/",
     "height": 121
    },
    "colab_type": "code",
    "executionInfo": {
     "elapsed": 1399,
     "status": "ok",
     "timestamp": 1584027590307,
     "user": {
      "displayName": "Anastasia Nikolskaya",
      "photoUrl": "https://lh3.googleusercontent.com/a-/AOh14GjUwswTDfclrozNFtwEJcPm-A2PmDwCJHZN8tR8Hg=s64",
      "userId": "05116738580945676026"
     },
     "user_tz": -180
    },
    "id": "AOU72lIHTLEf",
    "outputId": "d18201b7-fe6a-48f8-9917-c6dc3a9569e8"
   },
   "outputs": [
    {
     "data": {
      "text/plain": [
       "0    2.43\n",
       "1    2.14\n",
       "2    2.67\n",
       "3    2.50\n",
       "4    2.87\n",
       "Name: Ash, dtype: float64"
      ]
     },
     "execution_count": 15,
     "metadata": {},
     "output_type": "execute_result"
    }
   ],
   "source": [
    "data['Ash'].head()"
   ]
  },
  {
   "cell_type": "markdown",
   "metadata": {
    "colab_type": "text",
    "id": "m4Yj4WboTLFd"
   },
   "source": [
    "**loc и iloc**"
   ]
  },
  {
   "cell_type": "code",
   "execution_count": 16,
   "metadata": {
    "colab": {
     "base_uri": "https://localhost:8080/",
     "height": 237
    },
    "colab_type": "code",
    "executionInfo": {
     "elapsed": 872,
     "status": "ok",
     "timestamp": 1584009700154,
     "user": {
      "displayName": "Anastasia Nikolskaya",
      "photoUrl": "https://lh3.googleusercontent.com/a-/AOh14GjUwswTDfclrozNFtwEJcPm-A2PmDwCJHZN8tR8Hg=s64",
      "userId": "05116738580945676026"
     },
     "user_tz": -180
    },
    "id": "j-5xYMEPTLFx",
    "outputId": "1d775d32-d5da-4ef0-f163-2017b5529493"
   },
   "outputs": [
    {
     "data": {
      "text/html": [
       "<div>\n",
       "<style scoped>\n",
       "    .dataframe tbody tr th:only-of-type {\n",
       "        vertical-align: middle;\n",
       "    }\n",
       "\n",
       "    .dataframe tbody tr th {\n",
       "        vertical-align: top;\n",
       "    }\n",
       "\n",
       "    .dataframe thead th {\n",
       "        text-align: right;\n",
       "    }\n",
       "</style>\n",
       "<table border=\"1\" class=\"dataframe\">\n",
       "  <thead>\n",
       "    <tr style=\"text-align: right;\">\n",
       "      <th></th>\n",
       "      <th>Color.int</th>\n",
       "      <th>Hue</th>\n",
       "    </tr>\n",
       "  </thead>\n",
       "  <tbody>\n",
       "    <tr>\n",
       "      <th>0</th>\n",
       "      <td>5.64</td>\n",
       "      <td>1.04</td>\n",
       "    </tr>\n",
       "    <tr>\n",
       "      <th>1</th>\n",
       "      <td>4.38</td>\n",
       "      <td>1.05</td>\n",
       "    </tr>\n",
       "    <tr>\n",
       "      <th>2</th>\n",
       "      <td>5.68</td>\n",
       "      <td>1.03</td>\n",
       "    </tr>\n",
       "    <tr>\n",
       "      <th>3</th>\n",
       "      <td>7.80</td>\n",
       "      <td>0.86</td>\n",
       "    </tr>\n",
       "    <tr>\n",
       "      <th>4</th>\n",
       "      <td>4.32</td>\n",
       "      <td>1.04</td>\n",
       "    </tr>\n",
       "    <tr>\n",
       "      <th>5</th>\n",
       "      <td>6.75</td>\n",
       "      <td>1.05</td>\n",
       "    </tr>\n",
       "  </tbody>\n",
       "</table>\n",
       "</div>"
      ],
      "text/plain": [
       "   Color.int   Hue\n",
       "0       5.64  1.04\n",
       "1       4.38  1.05\n",
       "2       5.68  1.03\n",
       "3       7.80  0.86\n",
       "4       4.32  1.04\n",
       "5       6.75  1.05"
      ]
     },
     "execution_count": 16,
     "metadata": {},
     "output_type": "execute_result"
    }
   ],
   "source": [
    "data.loc[0:5, ['Color.int', 'Hue']]"
   ]
  },
  {
   "cell_type": "code",
   "execution_count": 17,
   "metadata": {
    "colab": {
     "base_uri": "https://localhost:8080/",
     "height": 206
    },
    "colab_type": "code",
    "executionInfo": {
     "elapsed": 825,
     "status": "ok",
     "timestamp": 1584009760994,
     "user": {
      "displayName": "Anastasia Nikolskaya",
      "photoUrl": "https://lh3.googleusercontent.com/a-/AOh14GjUwswTDfclrozNFtwEJcPm-A2PmDwCJHZN8tR8Hg=s64",
      "userId": "05116738580945676026"
     },
     "user_tz": -180
    },
    "id": "pymbW7XXTLGv",
    "outputId": "85a4eddd-4310-4b77-aed2-9bbd7c7bdff6",
    "scrolled": true
   },
   "outputs": [
    {
     "data": {
      "text/html": [
       "<div>\n",
       "<style scoped>\n",
       "    .dataframe tbody tr th:only-of-type {\n",
       "        vertical-align: middle;\n",
       "    }\n",
       "\n",
       "    .dataframe tbody tr th {\n",
       "        vertical-align: top;\n",
       "    }\n",
       "\n",
       "    .dataframe thead th {\n",
       "        text-align: right;\n",
       "    }\n",
       "</style>\n",
       "<table border=\"1\" class=\"dataframe\">\n",
       "  <thead>\n",
       "    <tr style=\"text-align: right;\">\n",
       "      <th></th>\n",
       "      <th>Color.int</th>\n",
       "      <th>Hue</th>\n",
       "    </tr>\n",
       "  </thead>\n",
       "  <tbody>\n",
       "    <tr>\n",
       "      <th>0</th>\n",
       "      <td>5.64</td>\n",
       "      <td>1.04</td>\n",
       "    </tr>\n",
       "    <tr>\n",
       "      <th>1</th>\n",
       "      <td>4.38</td>\n",
       "      <td>1.05</td>\n",
       "    </tr>\n",
       "    <tr>\n",
       "      <th>2</th>\n",
       "      <td>5.68</td>\n",
       "      <td>1.03</td>\n",
       "    </tr>\n",
       "    <tr>\n",
       "      <th>3</th>\n",
       "      <td>7.80</td>\n",
       "      <td>0.86</td>\n",
       "    </tr>\n",
       "    <tr>\n",
       "      <th>4</th>\n",
       "      <td>4.32</td>\n",
       "      <td>1.04</td>\n",
       "    </tr>\n",
       "  </tbody>\n",
       "</table>\n",
       "</div>"
      ],
      "text/plain": [
       "   Color.int   Hue\n",
       "0       5.64  1.04\n",
       "1       4.38  1.05\n",
       "2       5.68  1.03\n",
       "3       7.80  0.86\n",
       "4       4.32  1.04"
      ]
     },
     "execution_count": 17,
     "metadata": {},
     "output_type": "execute_result"
    }
   ],
   "source": [
    "data.iloc[:,-4:-2].head()"
   ]
  },
  {
   "cell_type": "markdown",
   "metadata": {
    "colab_type": "text",
    "id": "3JBkRLblTLNI"
   },
   "source": [
    "##**Добавление столбцов (построение признаков)**"
   ]
  },
  {
   "cell_type": "code",
   "execution_count": 19,
   "metadata": {
    "colab": {},
    "colab_type": "code",
    "id": "cWFpIYOpTLNT"
   },
   "outputs": [],
   "source": [
    "data['is_strong'] = (data['Alcohol'] > \n",
    "                   data['Alcohol'].quantile(.75)).astype('int64')"
   ]
  },
  {
   "cell_type": "code",
   "execution_count": 20,
   "metadata": {
    "colab": {},
    "colab_type": "code",
    "id": "o6SszjfaJygM"
   },
   "outputs": [],
   "source": [
    "data['Alcohol']=data['Alcohol'].astype('int64')"
   ]
  },
  {
   "cell_type": "code",
   "execution_count": 21,
   "metadata": {
    "colab": {
     "base_uri": "https://localhost:8080/",
     "height": 226
    },
    "colab_type": "code",
    "executionInfo": {
     "elapsed": 1789,
     "status": "ok",
     "timestamp": 1584027953833,
     "user": {
      "displayName": "Anastasia Nikolskaya",
      "photoUrl": "https://lh3.googleusercontent.com/a-/AOh14GjUwswTDfclrozNFtwEJcPm-A2PmDwCJHZN8tR8Hg=s64",
      "userId": "05116738580945676026"
     },
     "user_tz": -180
    },
    "id": "R7ghOzXXTLOE",
    "outputId": "5514b606-524e-48d6-f48f-5809bffe820a"
   },
   "outputs": [
    {
     "data": {
      "text/html": [
       "<div>\n",
       "<style scoped>\n",
       "    .dataframe tbody tr th:only-of-type {\n",
       "        vertical-align: middle;\n",
       "    }\n",
       "\n",
       "    .dataframe tbody tr th {\n",
       "        vertical-align: top;\n",
       "    }\n",
       "\n",
       "    .dataframe thead th {\n",
       "        text-align: right;\n",
       "    }\n",
       "</style>\n",
       "<table border=\"1\" class=\"dataframe\">\n",
       "  <thead>\n",
       "    <tr style=\"text-align: right;\">\n",
       "      <th></th>\n",
       "      <th>Wine</th>\n",
       "      <th>Alcohol</th>\n",
       "      <th>Malic.acid</th>\n",
       "      <th>Ash</th>\n",
       "      <th>Acl</th>\n",
       "      <th>Mg</th>\n",
       "      <th>Phenols</th>\n",
       "      <th>Flavanoids</th>\n",
       "      <th>Nonflavanoid.phenols</th>\n",
       "      <th>Proanth</th>\n",
       "      <th>Color.int</th>\n",
       "      <th>Hue</th>\n",
       "      <th>OD</th>\n",
       "      <th>Proline</th>\n",
       "      <th>is_strong</th>\n",
       "    </tr>\n",
       "  </thead>\n",
       "  <tbody>\n",
       "    <tr>\n",
       "      <th>0</th>\n",
       "      <td>1</td>\n",
       "      <td>14</td>\n",
       "      <td>1.71</td>\n",
       "      <td>2.43</td>\n",
       "      <td>15.6</td>\n",
       "      <td>127</td>\n",
       "      <td>2.80</td>\n",
       "      <td>3.06</td>\n",
       "      <td>0.28</td>\n",
       "      <td>2.29</td>\n",
       "      <td>5.64</td>\n",
       "      <td>1.04</td>\n",
       "      <td>3.92</td>\n",
       "      <td>1065</td>\n",
       "      <td>1</td>\n",
       "    </tr>\n",
       "    <tr>\n",
       "      <th>1</th>\n",
       "      <td>1</td>\n",
       "      <td>13</td>\n",
       "      <td>1.78</td>\n",
       "      <td>2.14</td>\n",
       "      <td>11.2</td>\n",
       "      <td>100</td>\n",
       "      <td>2.65</td>\n",
       "      <td>2.76</td>\n",
       "      <td>0.26</td>\n",
       "      <td>1.28</td>\n",
       "      <td>4.38</td>\n",
       "      <td>1.05</td>\n",
       "      <td>3.40</td>\n",
       "      <td>1050</td>\n",
       "      <td>0</td>\n",
       "    </tr>\n",
       "    <tr>\n",
       "      <th>2</th>\n",
       "      <td>1</td>\n",
       "      <td>13</td>\n",
       "      <td>2.36</td>\n",
       "      <td>2.67</td>\n",
       "      <td>18.6</td>\n",
       "      <td>101</td>\n",
       "      <td>2.80</td>\n",
       "      <td>3.24</td>\n",
       "      <td>0.30</td>\n",
       "      <td>2.81</td>\n",
       "      <td>5.68</td>\n",
       "      <td>1.03</td>\n",
       "      <td>3.17</td>\n",
       "      <td>1185</td>\n",
       "      <td>0</td>\n",
       "    </tr>\n",
       "    <tr>\n",
       "      <th>3</th>\n",
       "      <td>1</td>\n",
       "      <td>14</td>\n",
       "      <td>1.95</td>\n",
       "      <td>2.50</td>\n",
       "      <td>16.8</td>\n",
       "      <td>113</td>\n",
       "      <td>3.85</td>\n",
       "      <td>3.49</td>\n",
       "      <td>0.24</td>\n",
       "      <td>2.18</td>\n",
       "      <td>7.80</td>\n",
       "      <td>0.86</td>\n",
       "      <td>3.45</td>\n",
       "      <td>1480</td>\n",
       "      <td>1</td>\n",
       "    </tr>\n",
       "    <tr>\n",
       "      <th>4</th>\n",
       "      <td>1</td>\n",
       "      <td>13</td>\n",
       "      <td>2.59</td>\n",
       "      <td>2.87</td>\n",
       "      <td>21.0</td>\n",
       "      <td>118</td>\n",
       "      <td>2.80</td>\n",
       "      <td>2.69</td>\n",
       "      <td>0.39</td>\n",
       "      <td>1.82</td>\n",
       "      <td>4.32</td>\n",
       "      <td>1.04</td>\n",
       "      <td>2.93</td>\n",
       "      <td>735</td>\n",
       "      <td>0</td>\n",
       "    </tr>\n",
       "  </tbody>\n",
       "</table>\n",
       "</div>"
      ],
      "text/plain": [
       "   Wine  Alcohol  Malic.acid   Ash   Acl   Mg  Phenols  Flavanoids  \\\n",
       "0     1       14        1.71  2.43  15.6  127     2.80        3.06   \n",
       "1     1       13        1.78  2.14  11.2  100     2.65        2.76   \n",
       "2     1       13        2.36  2.67  18.6  101     2.80        3.24   \n",
       "3     1       14        1.95  2.50  16.8  113     3.85        3.49   \n",
       "4     1       13        2.59  2.87  21.0  118     2.80        2.69   \n",
       "\n",
       "   Nonflavanoid.phenols  Proanth  Color.int   Hue    OD  Proline  is_strong  \n",
       "0                  0.28     2.29       5.64  1.04  3.92     1065          1  \n",
       "1                  0.26     1.28       4.38  1.05  3.40     1050          0  \n",
       "2                  0.30     2.81       5.68  1.03  3.17     1185          0  \n",
       "3                  0.24     2.18       7.80  0.86  3.45     1480          1  \n",
       "4                  0.39     1.82       4.32  1.04  2.93      735          0  "
      ]
     },
     "execution_count": 21,
     "metadata": {},
     "output_type": "execute_result"
    }
   ],
   "source": [
    "data.head()"
   ]
  },
  {
   "cell_type": "code",
   "execution_count": 22,
   "metadata": {
    "colab": {},
    "colab_type": "code",
    "id": "XeTkixvmTLOv"
   },
   "outputs": [],
   "source": [
    "data['rubbish'] = .56 * data['Ash'] + 0.32 * data['Mg']"
   ]
  },
  {
   "cell_type": "markdown",
   "metadata": {
    "colab_type": "text",
    "id": "FEs0j7oyTLHq"
   },
   "source": [
    "##**Логическая индексация**"
   ]
  },
  {
   "cell_type": "code",
   "execution_count": 23,
   "metadata": {
    "colab": {
     "base_uri": "https://localhost:8080/",
     "height": 34
    },
    "colab_type": "code",
    "executionInfo": {
     "elapsed": 1439,
     "status": "ok",
     "timestamp": 1584028013434,
     "user": {
      "displayName": "Anastasia Nikolskaya",
      "photoUrl": "https://lh3.googleusercontent.com/a-/AOh14GjUwswTDfclrozNFtwEJcPm-A2PmDwCJHZN8tR8Hg=s64",
      "userId": "05116738580945676026"
     },
     "user_tz": -180
    },
    "id": "A0SAtdhvTLH3",
    "outputId": "15a237f5-3bf8-45f2-e2f3-5f6c01c85a51"
   },
   "outputs": [
    {
     "data": {
      "text/plain": [
       "(5.528305084745763, 3.08661971830986, 7.396249979166668)"
      ]
     },
     "execution_count": 23,
     "metadata": {},
     "output_type": "execute_result"
    }
   ],
   "source": [
    "data[data['Wine'] == 1]['Color.int'].mean(), \\\n",
    "data[data['Wine'] == 2]['Color.int'].mean(), \\\n",
    "data[data['Wine'] == 3]['Color.int'].mean()\n"
   ]
  },
  {
   "cell_type": "code",
   "execution_count": 24,
   "metadata": {
    "colab": {
     "base_uri": "https://localhost:8080/",
     "height": 34
    },
    "colab_type": "code",
    "executionInfo": {
     "elapsed": 993,
     "status": "ok",
     "timestamp": 1584023630250,
     "user": {
      "displayName": "Anastasia Nikolskaya",
      "photoUrl": "https://lh3.googleusercontent.com/a-/AOh14GjUwswTDfclrozNFtwEJcPm-A2PmDwCJHZN8tR8Hg=s64",
      "userId": "05116738580945676026"
     },
     "user_tz": -180
    },
    "id": "uHYQuw_CTLIu",
    "outputId": "6ea629a8-6b0c-4ff5-b790-4e0dee751685"
   },
   "outputs": [
    {
     "data": {
      "text/plain": [
       "(1.0899999999999999, 1.0541176470588234)"
      ]
     },
     "execution_count": 24,
     "metadata": {},
     "output_type": "execute_result"
    }
   ],
   "source": [
    "data[(data['Wine'] == 1) & (data['Ash'] > 2.5)]['Hue'].mean(), \\\n",
    "data[(data['Wine'] == 1) & (data['Ash'] < 2.5)]['Hue'].mean()"
   ]
  },
  {
   "cell_type": "code",
   "execution_count": 25,
   "metadata": {
    "colab": {
     "base_uri": "https://localhost:8080/",
     "height": 86
    },
    "colab_type": "code",
    "executionInfo": {
     "elapsed": 2177,
     "status": "ok",
     "timestamp": 1584028091878,
     "user": {
      "displayName": "Anastasia Nikolskaya",
      "photoUrl": "https://lh3.googleusercontent.com/a-/AOh14GjUwswTDfclrozNFtwEJcPm-A2PmDwCJHZN8tR8Hg=s64",
      "userId": "05116738580945676026"
     },
     "user_tz": -180
    },
    "id": "4Z0gqB5AXNip",
    "outputId": "58ad4baa-3247-4e62-9443-ed44d6df7bac"
   },
   "outputs": [
    {
     "data": {
      "text/plain": [
       "2    71\n",
       "1    59\n",
       "3    48\n",
       "Name: Wine, dtype: int64"
      ]
     },
     "execution_count": 25,
     "metadata": {},
     "output_type": "execute_result"
    }
   ],
   "source": [
    "data['Wine'].value_counts()"
   ]
  },
  {
   "cell_type": "code",
   "execution_count": 26,
   "metadata": {
    "colab": {
     "base_uri": "https://localhost:8080/",
     "height": 104
    },
    "colab_type": "code",
    "executionInfo": {
     "elapsed": 992,
     "status": "ok",
     "timestamp": 1584028092472,
     "user": {
      "displayName": "Anastasia Nikolskaya",
      "photoUrl": "https://lh3.googleusercontent.com/a-/AOh14GjUwswTDfclrozNFtwEJcPm-A2PmDwCJHZN8tR8Hg=s64",
      "userId": "05116738580945676026"
     },
     "user_tz": -180
    },
    "id": "2eSYwSaaH6dq",
    "outputId": "caf7fdb1-f40d-4bad-b3d3-a2cc348fa041"
   },
   "outputs": [
    {
     "data": {
      "text/plain": [
       "13    70\n",
       "12    67\n",
       "14    22\n",
       "11    19\n",
       "Name: Alcohol, dtype: int64"
      ]
     },
     "execution_count": 26,
     "metadata": {},
     "output_type": "execute_result"
    }
   ],
   "source": [
    "data['Alcohol'].value_counts()"
   ]
  },
  {
   "cell_type": "markdown",
   "metadata": {
    "colab_type": "text",
    "collapsed": true,
    "id": "j_WAZJscTLJl"
   },
   "source": [
    "## **Groupby**"
   ]
  },
  {
   "cell_type": "code",
   "execution_count": 27,
   "metadata": {
    "colab": {
     "base_uri": "https://localhost:8080/",
     "height": 156
    },
    "colab_type": "code",
    "executionInfo": {
     "elapsed": 1544,
     "status": "ok",
     "timestamp": 1584022966478,
     "user": {
      "displayName": "Anastasia Nikolskaya",
      "photoUrl": "https://lh3.googleusercontent.com/a-/AOh14GjUwswTDfclrozNFtwEJcPm-A2PmDwCJHZN8tR8Hg=s64",
      "userId": "05116738580945676026"
     },
     "user_tz": -180
    },
    "id": "xMp-Wc9uTLJ1",
    "outputId": "ccbf982f-1955-4cde-ac7f-b25abaf8c44a"
   },
   "outputs": [
    {
     "name": "stdout",
     "output_type": "stream",
     "text": [
      "11\n",
      "2.397894736842105\n",
      "12\n",
      "2.01134328358209\n",
      "13\n",
      "2.364428571428572\n",
      "14\n",
      "2.8499999999999996\n"
     ]
    }
   ],
   "source": [
    "for look, sub_df in data.groupby('Alcohol'):\n",
    "    print(look)\n",
    "    \n",
    "    # что угодно\n",
    "    print(sub_df['Phenols'].mean())"
   ]
  },
  {
   "cell_type": "code",
   "execution_count": 28,
   "metadata": {
    "colab": {
     "base_uri": "https://localhost:8080/",
     "height": 206
    },
    "colab_type": "code",
    "executionInfo": {
     "elapsed": 1068,
     "status": "ok",
     "timestamp": 1584023022130,
     "user": {
      "displayName": "Anastasia Nikolskaya",
      "photoUrl": "https://lh3.googleusercontent.com/a-/AOh14GjUwswTDfclrozNFtwEJcPm-A2PmDwCJHZN8tR8Hg=s64",
      "userId": "05116738580945676026"
     },
     "user_tz": -180
    },
    "id": "Xfyo9Z9hTLKj",
    "outputId": "f677a250-a0fb-4488-9992-afaab3c39a5c"
   },
   "outputs": [
    {
     "data": {
      "text/html": [
       "<div>\n",
       "<style scoped>\n",
       "    .dataframe tbody tr th:only-of-type {\n",
       "        vertical-align: middle;\n",
       "    }\n",
       "\n",
       "    .dataframe tbody tr th {\n",
       "        vertical-align: top;\n",
       "    }\n",
       "\n",
       "    .dataframe thead th {\n",
       "        text-align: right;\n",
       "    }\n",
       "</style>\n",
       "<table border=\"1\" class=\"dataframe\">\n",
       "  <thead>\n",
       "    <tr style=\"text-align: right;\">\n",
       "      <th></th>\n",
       "      <th>Flavanoids</th>\n",
       "      <th>Hue</th>\n",
       "    </tr>\n",
       "    <tr>\n",
       "      <th>Alcohol</th>\n",
       "      <th></th>\n",
       "      <th></th>\n",
       "    </tr>\n",
       "  </thead>\n",
       "  <tbody>\n",
       "    <tr>\n",
       "      <th>11</th>\n",
       "      <td>2.140</td>\n",
       "      <td>0.960</td>\n",
       "    </tr>\n",
       "    <tr>\n",
       "      <th>12</th>\n",
       "      <td>1.640</td>\n",
       "      <td>0.930</td>\n",
       "    </tr>\n",
       "    <tr>\n",
       "      <th>13</th>\n",
       "      <td>2.645</td>\n",
       "      <td>0.960</td>\n",
       "    </tr>\n",
       "    <tr>\n",
       "      <th>14</th>\n",
       "      <td>3.020</td>\n",
       "      <td>1.045</td>\n",
       "    </tr>\n",
       "  </tbody>\n",
       "</table>\n",
       "</div>"
      ],
      "text/plain": [
       "         Flavanoids    Hue\n",
       "Alcohol                   \n",
       "11            2.140  0.960\n",
       "12            1.640  0.930\n",
       "13            2.645  0.960\n",
       "14            3.020  1.045"
      ]
     },
     "execution_count": 28,
     "metadata": {},
     "output_type": "execute_result"
    }
   ],
   "source": [
    "data.groupby('Alcohol')[['Flavanoids', 'Hue']].agg(np.median)"
   ]
  },
  {
   "cell_type": "markdown",
   "metadata": {
    "colab_type": "text",
    "id": "4MrXI5-dTLLY"
   },
   "source": [
    "### **Сводная таблица**"
   ]
  },
  {
   "cell_type": "code",
   "execution_count": 29,
   "metadata": {
    "colab": {
     "base_uri": "https://localhost:8080/",
     "height": 175
    },
    "colab_type": "code",
    "executionInfo": {
     "elapsed": 1572,
     "status": "ok",
     "timestamp": 1584023061216,
     "user": {
      "displayName": "Anastasia Nikolskaya",
      "photoUrl": "https://lh3.googleusercontent.com/a-/AOh14GjUwswTDfclrozNFtwEJcPm-A2PmDwCJHZN8tR8Hg=s64",
      "userId": "05116738580945676026"
     },
     "user_tz": -180
    },
    "id": "VyW4pcUnTLLm",
    "outputId": "c7f10773-a3e5-4508-f4ce-a81ad9ea3335"
   },
   "outputs": [
    {
     "data": {
      "text/html": [
       "<div>\n",
       "<style scoped>\n",
       "    .dataframe tbody tr th:only-of-type {\n",
       "        vertical-align: middle;\n",
       "    }\n",
       "\n",
       "    .dataframe tbody tr th {\n",
       "        vertical-align: top;\n",
       "    }\n",
       "\n",
       "    .dataframe thead th {\n",
       "        text-align: right;\n",
       "    }\n",
       "</style>\n",
       "<table border=\"1\" class=\"dataframe\">\n",
       "  <thead>\n",
       "    <tr style=\"text-align: right;\">\n",
       "      <th>Alcohol</th>\n",
       "      <th>11</th>\n",
       "      <th>12</th>\n",
       "      <th>13</th>\n",
       "      <th>14</th>\n",
       "    </tr>\n",
       "    <tr>\n",
       "      <th>Wine</th>\n",
       "      <th></th>\n",
       "      <th></th>\n",
       "      <th></th>\n",
       "      <th></th>\n",
       "    </tr>\n",
       "  </thead>\n",
       "  <tbody>\n",
       "    <tr>\n",
       "      <th>1</th>\n",
       "      <td>0</td>\n",
       "      <td>2</td>\n",
       "      <td>38</td>\n",
       "      <td>19</td>\n",
       "    </tr>\n",
       "    <tr>\n",
       "      <th>2</th>\n",
       "      <td>19</td>\n",
       "      <td>44</td>\n",
       "      <td>8</td>\n",
       "      <td>0</td>\n",
       "    </tr>\n",
       "    <tr>\n",
       "      <th>3</th>\n",
       "      <td>0</td>\n",
       "      <td>21</td>\n",
       "      <td>24</td>\n",
       "      <td>3</td>\n",
       "    </tr>\n",
       "  </tbody>\n",
       "</table>\n",
       "</div>"
      ],
      "text/plain": [
       "Alcohol  11  12  13  14\n",
       "Wine                   \n",
       "1         0   2  38  19\n",
       "2        19  44   8   0\n",
       "3         0  21  24   3"
      ]
     },
     "execution_count": 29,
     "metadata": {},
     "output_type": "execute_result"
    }
   ],
   "source": [
    "pd.crosstab(data['Wine'], data['Alcohol'])"
   ]
  },
  {
   "cell_type": "markdown",
   "metadata": {
    "colab_type": "text",
    "collapsed": true,
    "id": "cq4ASsUlTLPf"
   },
   "source": [
    "##**map и apply**"
   ]
  },
  {
   "cell_type": "code",
   "execution_count": 30,
   "metadata": {
    "colab": {},
    "colab_type": "code",
    "id": "ZyCgBAKCTLPs"
   },
   "outputs": [],
   "source": [
    "def strong(is_strong):\n",
    "    return 'is strong' if is_strong else 'is not strong'"
   ]
  },
  {
   "cell_type": "code",
   "execution_count": 31,
   "metadata": {
    "colab": {},
    "colab_type": "code",
    "id": "JUzr730sTLQY"
   },
   "outputs": [],
   "source": [
    "d =  {1: 'is strong', 0: 'is not strong'}"
   ]
  },
  {
   "cell_type": "code",
   "execution_count": 32,
   "metadata": {
    "colab": {
     "base_uri": "https://localhost:8080/",
     "height": 121
    },
    "colab_type": "code",
    "executionInfo": {
     "elapsed": 1430,
     "status": "ok",
     "timestamp": 1584028325936,
     "user": {
      "displayName": "Anastasia Nikolskaya",
      "photoUrl": "https://lh3.googleusercontent.com/a-/AOh14GjUwswTDfclrozNFtwEJcPm-A2PmDwCJHZN8tR8Hg=s64",
      "userId": "05116738580945676026"
     },
     "user_tz": -180
    },
    "id": "s2l7evSQTLRA",
    "outputId": "13277b47-0857-4d21-d6f3-7ed7a267f4b9"
   },
   "outputs": [
    {
     "data": {
      "text/plain": [
       "0        is strong\n",
       "1    is not strong\n",
       "2    is not strong\n",
       "3        is strong\n",
       "4    is not strong\n",
       "Name: is_strong, dtype: object"
      ]
     },
     "execution_count": 32,
     "metadata": {},
     "output_type": "execute_result"
    }
   ],
   "source": [
    "data['is_strong'].map(d).head()"
   ]
  },
  {
   "cell_type": "code",
   "execution_count": 33,
   "metadata": {
    "colab": {
     "base_uri": "https://localhost:8080/",
     "height": 121
    },
    "colab_type": "code",
    "executionInfo": {
     "elapsed": 897,
     "status": "ok",
     "timestamp": 1584023829178,
     "user": {
      "displayName": "Anastasia Nikolskaya",
      "photoUrl": "https://lh3.googleusercontent.com/a-/AOh14GjUwswTDfclrozNFtwEJcPm-A2PmDwCJHZN8tR8Hg=s64",
      "userId": "05116738580945676026"
     },
     "user_tz": -180
    },
    "id": "E_BKsz7lTLRp",
    "outputId": "c124866c-0f22-4e9a-c90c-533a8d11b458"
   },
   "outputs": [
    {
     "data": {
      "text/plain": [
       "0        is strong\n",
       "1    is not strong\n",
       "2    is not strong\n",
       "3        is strong\n",
       "4    is not strong\n",
       "Name: is_strong, dtype: object"
      ]
     },
     "execution_count": 33,
     "metadata": {},
     "output_type": "execute_result"
    }
   ],
   "source": [
    "data['is_strong'].apply(lambda x: 'is strong' if x else 'is not strong').head()"
   ]
  },
  {
   "cell_type": "code",
   "execution_count": null,
   "metadata": {
    "colab": {},
    "colab_type": "code",
    "id": "l40JwFF0NUPc"
   },
   "outputs": [],
   "source": []
  },
  {
   "cell_type": "code",
   "execution_count": 34,
   "metadata": {
    "colab": {
     "base_uri": "https://localhost:8080/",
     "height": 226
    },
    "colab_type": "code",
    "executionInfo": {
     "elapsed": 2038,
     "status": "ok",
     "timestamp": 1584024361711,
     "user": {
      "displayName": "Anastasia Nikolskaya",
      "photoUrl": "https://lh3.googleusercontent.com/a-/AOh14GjUwswTDfclrozNFtwEJcPm-A2PmDwCJHZN8tR8Hg=s64",
      "userId": "05116738580945676026"
     },
     "user_tz": -180
    },
    "id": "IuJdL4seLXKe",
    "outputId": "fbdb5ed4-c103-4beb-bb27-36b957d1866f"
   },
   "outputs": [
    {
     "data": {
      "text/html": [
       "<div>\n",
       "<style scoped>\n",
       "    .dataframe tbody tr th:only-of-type {\n",
       "        vertical-align: middle;\n",
       "    }\n",
       "\n",
       "    .dataframe tbody tr th {\n",
       "        vertical-align: top;\n",
       "    }\n",
       "\n",
       "    .dataframe thead th {\n",
       "        text-align: right;\n",
       "    }\n",
       "</style>\n",
       "<table border=\"1\" class=\"dataframe\">\n",
       "  <thead>\n",
       "    <tr style=\"text-align: right;\">\n",
       "      <th></th>\n",
       "      <th>Wine</th>\n",
       "      <th>Alcohol</th>\n",
       "      <th>Malic.acid</th>\n",
       "      <th>Ash</th>\n",
       "      <th>Acl</th>\n",
       "      <th>Mg</th>\n",
       "      <th>Phenols</th>\n",
       "      <th>Flavanoids</th>\n",
       "      <th>Nonflavanoid.phenols</th>\n",
       "      <th>Proanth</th>\n",
       "      <th>Color.int</th>\n",
       "      <th>Hue</th>\n",
       "      <th>OD</th>\n",
       "      <th>Proline</th>\n",
       "      <th>is_strong</th>\n",
       "      <th>rubbish</th>\n",
       "    </tr>\n",
       "  </thead>\n",
       "  <tbody>\n",
       "    <tr>\n",
       "      <th>73</th>\n",
       "      <td>2</td>\n",
       "      <td>12</td>\n",
       "      <td>1.67</td>\n",
       "      <td>2.60</td>\n",
       "      <td>30.0</td>\n",
       "      <td>139</td>\n",
       "      <td>3.30</td>\n",
       "      <td>2.89</td>\n",
       "      <td>0.21</td>\n",
       "      <td>1.96</td>\n",
       "      <td>3.35</td>\n",
       "      <td>1.31</td>\n",
       "      <td>3.50</td>\n",
       "      <td>985</td>\n",
       "      <td>0</td>\n",
       "      <td>45.9360</td>\n",
       "    </tr>\n",
       "    <tr>\n",
       "      <th>96</th>\n",
       "      <td>2</td>\n",
       "      <td>11</td>\n",
       "      <td>2.12</td>\n",
       "      <td>2.74</td>\n",
       "      <td>21.5</td>\n",
       "      <td>134</td>\n",
       "      <td>1.60</td>\n",
       "      <td>0.99</td>\n",
       "      <td>0.14</td>\n",
       "      <td>1.56</td>\n",
       "      <td>2.50</td>\n",
       "      <td>0.95</td>\n",
       "      <td>2.26</td>\n",
       "      <td>625</td>\n",
       "      <td>0</td>\n",
       "      <td>44.4144</td>\n",
       "    </tr>\n",
       "    <tr>\n",
       "      <th>121</th>\n",
       "      <td>2</td>\n",
       "      <td>11</td>\n",
       "      <td>2.05</td>\n",
       "      <td>3.23</td>\n",
       "      <td>28.5</td>\n",
       "      <td>119</td>\n",
       "      <td>3.18</td>\n",
       "      <td>5.08</td>\n",
       "      <td>0.47</td>\n",
       "      <td>1.87</td>\n",
       "      <td>6.00</td>\n",
       "      <td>0.93</td>\n",
       "      <td>3.69</td>\n",
       "      <td>465</td>\n",
       "      <td>0</td>\n",
       "      <td>39.8888</td>\n",
       "    </tr>\n",
       "    <tr>\n",
       "      <th>64</th>\n",
       "      <td>2</td>\n",
       "      <td>12</td>\n",
       "      <td>1.45</td>\n",
       "      <td>2.53</td>\n",
       "      <td>19.0</td>\n",
       "      <td>104</td>\n",
       "      <td>1.89</td>\n",
       "      <td>1.75</td>\n",
       "      <td>0.45</td>\n",
       "      <td>1.03</td>\n",
       "      <td>2.95</td>\n",
       "      <td>1.45</td>\n",
       "      <td>2.23</td>\n",
       "      <td>355</td>\n",
       "      <td>0</td>\n",
       "      <td>34.6968</td>\n",
       "    </tr>\n",
       "    <tr>\n",
       "      <th>112</th>\n",
       "      <td>2</td>\n",
       "      <td>11</td>\n",
       "      <td>2.68</td>\n",
       "      <td>2.92</td>\n",
       "      <td>20.0</td>\n",
       "      <td>103</td>\n",
       "      <td>1.75</td>\n",
       "      <td>2.03</td>\n",
       "      <td>0.60</td>\n",
       "      <td>1.05</td>\n",
       "      <td>3.80</td>\n",
       "      <td>1.23</td>\n",
       "      <td>2.50</td>\n",
       "      <td>607</td>\n",
       "      <td>0</td>\n",
       "      <td>34.5952</td>\n",
       "    </tr>\n",
       "  </tbody>\n",
       "</table>\n",
       "</div>"
      ],
      "text/plain": [
       "     Wine  Alcohol  Malic.acid   Ash   Acl   Mg  Phenols  Flavanoids  \\\n",
       "73      2       12        1.67  2.60  30.0  139     3.30        2.89   \n",
       "96      2       11        2.12  2.74  21.5  134     1.60        0.99   \n",
       "121     2       11        2.05  3.23  28.5  119     3.18        5.08   \n",
       "64      2       12        1.45  2.53  19.0  104     1.89        1.75   \n",
       "112     2       11        2.68  2.92  20.0  103     1.75        2.03   \n",
       "\n",
       "     Nonflavanoid.phenols  Proanth  Color.int   Hue    OD  Proline  is_strong  \\\n",
       "73                   0.21     1.96       3.35  1.31  3.50      985          0   \n",
       "96                   0.14     1.56       2.50  0.95  2.26      625          0   \n",
       "121                  0.47     1.87       6.00  0.93  3.69      465          0   \n",
       "64                   0.45     1.03       2.95  1.45  2.23      355          0   \n",
       "112                  0.60     1.05       3.80  1.23  2.50      607          0   \n",
       "\n",
       "     rubbish  \n",
       "73   45.9360  \n",
       "96   44.4144  \n",
       "121  39.8888  \n",
       "64   34.6968  \n",
       "112  34.5952  "
      ]
     },
     "execution_count": 34,
     "metadata": {},
     "output_type": "execute_result"
    }
   ],
   "source": [
    "data[(data['Wine'] == 2) & \n",
    "     (data['Ash'] > 2.5)].sort_values(by='Mg',\n",
    "                               ascending=False).head()\n",
    "\n"
   ]
  },
  {
   "cell_type": "code",
   "execution_count": 35,
   "metadata": {
    "colab": {},
    "colab_type": "code",
    "id": "f151eW7fNTVX"
   },
   "outputs": [],
   "source": [
    "import matplotlib.pyplot as plt"
   ]
  },
  {
   "cell_type": "code",
   "execution_count": 37,
   "metadata": {
    "colab": {
     "base_uri": "https://localhost:8080/",
     "height": 282
    },
    "colab_type": "code",
    "executionInfo": {
     "elapsed": 2607,
     "status": "ok",
     "timestamp": 1584028648026,
     "user": {
      "displayName": "Anastasia Nikolskaya",
      "photoUrl": "https://lh3.googleusercontent.com/a-/AOh14GjUwswTDfclrozNFtwEJcPm-A2PmDwCJHZN8tR8Hg=s64",
      "userId": "05116738580945676026"
     },
     "user_tz": -180
    },
    "id": "1GU0Sin9dXV1",
    "outputId": "9e2e91ca-ee16-4746-dc93-6c2acb1247db"
   },
   "outputs": [
    {
     "data": {
      "text/plain": [
       "<matplotlib.axes._subplots.AxesSubplot at 0x7fadcc715950>"
      ]
     },
     "execution_count": 37,
     "metadata": {},
     "output_type": "execute_result"
    },
    {
     "data": {
      "image/png": "[encoded data removed]",
      "text/plain": [
       "<Figure size 432x288 with 1 Axes>"
      ]
     },
     "metadata": {
      "needs_background": "light"
     },
     "output_type": "display_data"
    }
   ],
   "source": [
    "data['Ash'].plot()"
   ]
  },
  {
   "cell_type": "code",
   "execution_count": null,
   "metadata": {
    "colab": {},
    "colab_type": "code",
    "id": "rzlUZaG2db8Q"
   },
   "outputs": [],
   "source": []
  }
 ],
 "metadata": {
  "colab": {
   "name": "2_pandas_intro.ipynb",
   "provenance": []
  },
  "kernelspec": {
   "display_name": "Python 3",
   "language": "python",
   "name": "python3"
  },
  "language_info": {
   "codemirror_mode": {
    "name": "ipython",
    "version": 3
   },
   "file_extension": ".py",
   "mimetype": "text/x-python",
   "name": "python",
   "nbconvert_exporter": "python",
   "pygments_lexer": "ipython3",
   "version": "3.7.6"
  },
  "pycharm": {
   "stem_cell": {
    "cell_type": "raw",
    "metadata": {
     "collapsed": false
    },
    "source": []
   }
  }
 },
 "nbformat": 4,
 "nbformat_minor": 1
}
